{
 "cells": [
  {
   "cell_type": "code",
   "execution_count": 5,
   "id": "816be9fd-3cb7-499d-87ea-a1c0a50b46e6",
   "metadata": {},
   "outputs": [
    {
     "data": {
      "application/vnd.jupyter.widget-view+json": {
       "model_id": "8977a29e101740f6a50033ee54570ff4",
       "version_major": 2,
       "version_minor": 0
      },
      "text/plain": [
       "interactive(children=(SelectionSlider(continuous_update=False, description='Select Date:', options=(datetime.d…"
      ]
     },
     "metadata": {},
     "output_type": "display_data"
    },
    {
     "data": {
      "text/plain": [
       "<function __main__.predict_launch(selected_date)>"
      ]
     },
     "execution_count": 5,
     "metadata": {},
     "output_type": "execute_result"
    }
   ],
   "source": [
    "import requests\n",
    "import pandas as pd\n",
    "import joblib\n",
    "import datetime\n",
    "from ipywidgets import widgets, interact\n",
    "\n",
    "# Load trained model\n",
    "model_path = \"models/xgboost_best_model.pkl\"\n",
    "model = joblib.load(model_path)\n",
    "\n",
    "# Function to fetch a 7-day weather forecast from Open-Meteo API\n",
    "def fetch_weather_forecast():\n",
    "    url = \"https://api.open-meteo.com/v1/forecast\"\n",
    "    params = {\n",
    "        \"latitude\": 28.40057,  # Cape Canaveral\n",
    "        \"longitude\": -80.611755,\n",
    "        \"daily\": [\"temperature_2m_max\", \"temperature_2m_min\", \"precipitation_sum\", \n",
    "                  \"windspeed_10m_max\", \"windgusts_10m_max\", \"winddirection_10m_dominant\", \n",
    "                  \"cloudcover_mean\", \"pressure_msl_mean\"],\n",
    "        \"timezone\": \"GMT\",\n",
    "        \"forecast_days\": 7  # Limit to 7 days\n",
    "    }\n",
    "    response = requests.get(url, params=params)\n",
    "    data = response.json()\n",
    "    return data\n",
    "\n",
    "# Fetch forecast data once\n",
    "weather_data = fetch_weather_forecast()\n",
    "available_dates = [datetime.datetime.strptime(d, \"%Y-%m-%d\").date() for d in weather_data[\"daily\"][\"time\"][:7]]  # Only first 7 days\n",
    "\n",
    "# Function to get weather data for a selected date\n",
    "def get_weather_by_date(selected_date, weather_data):\n",
    "    date_str = selected_date.strftime(\"%Y-%m-%d\")\n",
    "    \n",
    "    try:\n",
    "        date_index = weather_data[\"daily\"][\"time\"].index(date_str)\n",
    "        \n",
    "        temperature_c = (weather_data[\"daily\"][\"temperature_2m_max\"][date_index] + \n",
    "                         weather_data[\"daily\"][\"temperature_2m_min\"][date_index]) / 2\n",
    "        temperature_f = (temperature_c * 9/5) + 32  # Convert to Fahrenheit\n",
    "        precipitation_mm = weather_data[\"daily\"][\"precipitation_sum\"][date_index]\n",
    "        precipitation_inches = precipitation_mm / 25.4  # Convert to inches\n",
    "\n",
    "        features = pd.DataFrame([{\n",
    "            \"temperature_2m\": temperature_f,\n",
    "            \"relative_humidity_2m\": 60.0,  # Default value\n",
    "            \"precipitation\": precipitation_inches,\n",
    "            \"windspeed_10m\": weather_data[\"daily\"][\"windspeed_10m_max\"][date_index],\n",
    "            \"windgusts_10m\": weather_data[\"daily\"][\"windgusts_10m_max\"][date_index],\n",
    "            \"winddirection_10m\": weather_data[\"daily\"][\"winddirection_10m_dominant\"][date_index],\n",
    "            \"cloudcover\": weather_data[\"daily\"][\"cloudcover_mean\"][date_index],\n",
    "            \"pressure_msl\": weather_data[\"daily\"][\"pressure_msl_mean\"][date_index]\n",
    "        }])\n",
    "        \n",
    "        return features\n",
    "    except ValueError:\n",
    "        print(f\"🚨 Error: Weather data for {date_str} is not available.\")\n",
    "        return None\n",
    "\n",
    "# Function to run prediction\n",
    "def predict_launch(selected_date):\n",
    "    weather_features = get_weather_by_date(selected_date, weather_data)\n",
    "    \n",
    "    if weather_features is not None:\n",
    "        prediction = model.predict(weather_features)[0]\n",
    "        confidence = model.predict_proba(weather_features)[0][int(prediction)] * 100\n",
    "        decision = \"GO\" if prediction == 1 else \"NO-GO\"\n",
    "        \n",
    "        print(f\"\\n📅 Date: {selected_date.strftime('%Y-%m-%d')}\")\n",
    "        print(f\"🚀 **Launch Decision:** {decision}\")\n",
    "        print(f\"📊 **Confidence Score:** {confidence:.2f}%\")\n",
    "\n",
    "# Updated date picker with only valid dates (7 days max)\n",
    "date_picker = widgets.SelectionSlider(\n",
    "    options=available_dates,  # Only show 7 days of valid forecast dates\n",
    "    description=\"Select Date:\",\n",
    "    continuous_update=False\n",
    ")\n",
    "\n",
    "interact(predict_launch, selected_date=date_picker)\n"
   ]
  }
 ],
 "metadata": {
  "kernelspec": {
   "display_name": "Python 3 (ipykernel)",
   "language": "python",
   "name": "python3"
  },
  "language_info": {
   "codemirror_mode": {
    "name": "ipython",
    "version": 3
   },
   "file_extension": ".py",
   "mimetype": "text/x-python",
   "name": "python",
   "nbconvert_exporter": "python",
   "pygments_lexer": "ipython3",
   "version": "3.10.11"
  }
 },
 "nbformat": 4,
 "nbformat_minor": 5
}
